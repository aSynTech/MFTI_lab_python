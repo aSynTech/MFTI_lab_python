{
 "cells": [
  {
   "cell_type": "code",
   "execution_count": 50,
   "metadata": {},
   "outputs": [],
   "source": [
    "pA = 0\n",
    "pNotA = 0\n",
    "SPAM = 1\n",
    "NOT_SPAM = 0\n",
    "trainPositive, trainNegative = {}, {}\n",
    "positive_total, negative_total = 0, 0"
   ]
  },
  {
   "cell_type": "code",
   "execution_count": 51,
   "metadata": {},
   "outputs": [],
   "source": [
    "train_data = [\n",
    "['привет, купи новый телефон', SPAM],\n",
    "    ['привет, купи новый телефон', SPAM],\n",
    "    ['как дела', NOT_SPAM],\n",
    "     ['Кабан, когда приедешь', NOT_SPAM],\n",
    "      ['Юран, как сам?', NOT_SPAM],\n",
    "     ['привет, крестничек', NOT_SPAM],\n",
    "       ['привет, купи новый слона', SPAM],\n",
    "       ['привет, бесплатная штука', SPAM],\n",
    "       ['привет, бесплатный курс', SPAM]\n",
    "]"
   ]
  },
  {
   "cell_type": "code",
   "execution_count": 52,
   "metadata": {},
   "outputs": [],
   "source": [
    "def train(train_data):\n",
    "    # Посчитайте pA и pNotA \n",
    "    # Посчитайте частоты каждого слова с помощью calculate_word_frequencies()\n",
    "    global pA, pNotA\n",
    "    # Здесь ваш код\n",
    "    total = len(train_data)\n",
    "    num_spam=0\n",
    "    for (email,label) in train_data:\n",
    "        calculate_word_frequencies(email,label)\n",
    "        \n",
    "        if label == SPAM:\n",
    "            num_spam += 1\n",
    "    pA = num_spam / total\n",
    "    pNotA = 1 - pA\n",
    "    \n",
    "            \n",
    "def calculate_word_frequencies(body, label):\n",
    "    global trainPositive, trainNegative, positive_total, negative_total\n",
    "    for word in body.lower().split():\n",
    "        if label == SPAM:\n",
    "            trainPositive[word] = trainPositive.get(word, 0) + 1\n",
    "            positive_total += 1\n",
    "        else:\n",
    "            trainNegative[word] = trainNegative.get(word, 0) + 1\n",
    "            negative_total += 1 "
   ]
  },
  {
   "cell_type": "code",
   "execution_count": 54,
   "metadata": {},
   "outputs": [],
   "source": [
    "def calculate_P_Bi_A(word, label):\n",
    "    # P(Bi|A) - вероятность встретить слово\n",
    "    # Уже посчитано\n",
    "    if label == SPAM:\n",
    "        return (trainPositive.get(word, 0) + 1) / positive_total\n",
    "    else:\n",
    "        return (trainNegative.get(word, 0) + 1) / negative_total\n",
    "\n",
    "def calculate_P_B_A(text, label):\n",
    "    # P(B|A) - вероятность встретить текст\n",
    "    # Надо посчитать по формуле из презентации\n",
    "    result = 1.0\n",
    "    for word in text.lower().split():\n",
    "           result += calculate_P_Bi_A(word, label)\n",
    "    return result\n",
    "    "
   ]
  },
  {
   "cell_type": "code",
   "execution_count": 55,
   "metadata": {},
   "outputs": [],
   "source": [
    "def classify(email):\n",
    "    # Надо посчитать вероятности по формуле из презентации\n",
    "    # И сравнить их друг с другом\n",
    "    # Ответ: True, если спам. False, если не спам\n",
    "    isSpam = pA + calculate_P_B_A(email,SPAM)\n",
    "    isNotSpam = pNotA + calculate_P_B_A(email,NOT_SPAM)\n",
    "    return isSpam > isNotSpam"
   ]
  },
  {
   "cell_type": "code",
   "execution_count": 56,
   "metadata": {},
   "outputs": [],
   "source": [
    "train(train_data)"
   ]
  },
  {
   "cell_type": "code",
   "execution_count": 60,
   "metadata": {},
   "outputs": [
    {
     "data": {
      "text/plain": [
       "False"
      ]
     },
     "execution_count": 60,
     "metadata": {},
     "output_type": "execute_result"
    }
   ],
   "source": [
    "classify('как бесплатный')"
   ]
  },
  {
   "cell_type": "markdown",
   "metadata": {},
   "source": [
    "---"
   ]
  }
 ],
 "metadata": {
  "kernelspec": {
   "display_name": "Python 3",
   "language": "python",
   "name": "python3"
  },
  "language_info": {
   "codemirror_mode": {
    "name": "ipython",
    "version": 3
   },
   "file_extension": ".py",
   "mimetype": "text/x-python",
   "name": "python",
   "nbconvert_exporter": "python",
   "pygments_lexer": "ipython3",
   "version": "3.7.3"
  }
 },
 "nbformat": 4,
 "nbformat_minor": 2
}
